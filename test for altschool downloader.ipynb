{
  "nbformat": 4,
  "nbformat_minor": 0,
  "metadata": {
    "colab": {
      "provenance": [],
      "gpuType": "T4",
      "authorship_tag": "ABX9TyPw/cvtuOPel2xUgFPqSK2n",
      "include_colab_link": true
    },
    "kernelspec": {
      "name": "python3",
      "display_name": "Python 3"
    },
    "language_info": {
      "name": "python"
    },
    "accelerator": "GPU"
  },
  "cells": [
    {
      "cell_type": "markdown",
      "metadata": {
        "id": "view-in-github",
        "colab_type": "text"
      },
      "source": [
        "<a href=\"https://colab.research.google.com/github/plutack1/Altschool-downloader/blob/main/test%20for%20altschool%20downloader.ipynb\" target=\"_parent\"><img src=\"https://colab.research.google.com/assets/colab-badge.svg\" alt=\"Open In Colab\"/></a>"
      ]
    },
    {
      "cell_type": "code",
      "execution_count": null,
      "metadata": {
        "colab": {
          "base_uri": "https://localhost:8080/"
        },
        "id": "xgP5NR-SyrWi",
        "outputId": "18ef2ca4-41b4-4b76-c089-4afdbfe4f50b"
      },
      "outputs": [
        {
          "output_type": "stream",
          "name": "stdout",
          "text": [
            "Mounted at /content/drive\n"
          ]
        }
      ],
      "source": [
        "from google.colab import drive\n",
        "drive.mount('/content/drive')"
      ]
    },
    {
      "cell_type": "code",
      "source": [
        "import os\n",
        "os.chdir('/content/drive/MyDrive/Test/Altschool-downloader')"
      ],
      "metadata": {
        "id": "851QjkvIzDOx"
      },
      "execution_count": null,
      "outputs": []
    },
    {
      "cell_type": "code",
      "source": [
        "!git pull"
      ],
      "metadata": {
        "id": "gW7SN57z1fEq",
        "colab": {
          "base_uri": "https://localhost:8080/"
        },
        "outputId": "b2682127-1628-407f-9adb-677481a87652"
      },
      "execution_count": 19,
      "outputs": [
        {
          "output_type": "stream",
          "name": "stdout",
          "text": [
            "remote: Enumerating objects: 5, done.\u001b[K\n",
            "remote: Counting objects:  20% (1/5)\u001b[K\rremote: Counting objects:  40% (2/5)\u001b[K\rremote: Counting objects:  60% (3/5)\u001b[K\rremote: Counting objects:  80% (4/5)\u001b[K\rremote: Counting objects: 100% (5/5)\u001b[K\rremote: Counting objects: 100% (5/5), done.\u001b[K\n",
            "remote: Compressing objects:  33% (1/3)\u001b[K\rremote: Compressing objects:  66% (2/3)\u001b[K\rremote: Compressing objects: 100% (3/3)\u001b[K\rremote: Compressing objects: 100% (3/3), done.\u001b[K\n",
            "remote: Total 3 (delta 2), reused 1 (delta 0), pack-reused 0\u001b[K\n",
            "Unpacking objects:  33% (1/3)\rUnpacking objects:  66% (2/3)\rUnpacking objects: 100% (3/3)\rUnpacking objects: 100% (3/3), 352 bytes | 13.00 KiB/s, done.\n",
            "From https://github.com/plutack1/Altschool-downloader\n",
            "   2becf8e..f89b127  main       -> origin/main\n",
            "Updating 2becf8e..f89b127\n",
            "Fast-forward\n",
            " downloader.py | 6 \u001b[32m++++\u001b[m\u001b[31m--\u001b[m\n",
            " 1 file changed, 4 insertions(+), 2 deletions(-)\n"
          ]
        }
      ]
    },
    {
      "cell_type": "code",
      "source": [
        "pip install -r requirements.txt"
      ],
      "metadata": {
        "id": "EeEfpAeo1n4o"
      },
      "execution_count": null,
      "outputs": []
    },
    {
      "cell_type": "code",
      "source": [
        "!python main.py"
      ],
      "metadata": {
        "colab": {
          "base_uri": "https://localhost:8080/"
        },
        "id": "m1i6gPFXzrDm",
        "outputId": "ab167831-ce61-40ec-9555-d1c6528fdb60"
      },
      "execution_count": 21,
      "outputs": [
        {
          "output_type": "stream",
          "name": "stdout",
          "text": [
            "100% 27/27 [00:06<00:00,  4.17it/s]\n",
            "100% 27/27 [00:04<00:00,  6.73it/s]\n",
            "ffmpeg version 4.4.2-0ubuntu0.22.04.1 Copyright (c) 2000-2021 the FFmpeg developers\n",
            "  built with gcc 11 (Ubuntu 11.2.0-19ubuntu1)\n",
            "  configuration: --prefix=/usr --extra-version=0ubuntu0.22.04.1 --toolchain=hardened --libdir=/usr/lib/x86_64-linux-gnu --incdir=/usr/include/x86_64-linux-gnu --arch=amd64 --enable-gpl --disable-stripping --enable-gnutls --enable-ladspa --enable-libaom --enable-libass --enable-libbluray --enable-libbs2b --enable-libcaca --enable-libcdio --enable-libcodec2 --enable-libdav1d --enable-libflite --enable-libfontconfig --enable-libfreetype --enable-libfribidi --enable-libgme --enable-libgsm --enable-libjack --enable-libmp3lame --enable-libmysofa --enable-libopenjpeg --enable-libopenmpt --enable-libopus --enable-libpulse --enable-librabbitmq --enable-librubberband --enable-libshine --enable-libsnappy --enable-libsoxr --enable-libspeex --enable-libsrt --enable-libssh --enable-libtheora --enable-libtwolame --enable-libvidstab --enable-libvorbis --enable-libvpx --enable-libwebp --enable-libx265 --enable-libxml2 --enable-libxvid --enable-libzimg --enable-libzmq --enable-libzvbi --enable-lv2 --enable-omx --enable-openal --enable-opencl --enable-opengl --enable-sdl2 --enable-pocketsphinx --enable-librsvg --enable-libmfx --enable-libdc1394 --enable-libdrm --enable-libiec61883 --enable-chromaprint --enable-frei0r --enable-libx264 --enable-shared\n",
            "  libavutil      56. 70.100 / 56. 70.100\n",
            "  libavcodec     58.134.100 / 58.134.100\n",
            "  libavformat    58. 76.100 / 58. 76.100\n",
            "  libavdevice    58. 13.100 / 58. 13.100\n",
            "  libavfilter     7.110.100 /  7.110.100\n",
            "  libswscale      5.  9.100 /  5.  9.100\n",
            "  libswresample   3.  9.100 /  3.  9.100\n",
            "  libpostproc    55.  9.100 / 55.  9.100\n",
            "Input #0, mov,mp4,m4a,3gp,3g2,mj2, from '/content/drive/MyDrive/Test/Altschool-downloader/Altschool Backend Engineering/HTML/video_884ad87d':\n",
            "  Metadata:\n",
            "    major_brand     : dash\n",
            "    minor_version   : 0\n",
            "    compatible_brands: dashmp42mp41iso6\n",
            "    creation_time   : 2022-11-21T12:52:13.000000Z\n",
            "  Duration: 00:02:38.78, start: 0.000000, bitrate: 1114 kb/s\n",
            "  Stream #0:0(und): Video: h264 (High) (avc1 / 0x31637661), yuv420p(tv, bt709), 1920x1080, 1111 kb/s, 23.98 fps, 23.98 tbr, 24k tbn, 48k tbc (default)\n",
            "    Metadata:\n",
            "      creation_time   : 2022-11-21T12:52:13.000000Z\n",
            "      handler_name    : L-SMASH Video Handler\n",
            "      vendor_id       : [0][0][0][0]\n",
            "      encoder         : AVC Coding\n",
            "Input #1, mov,mp4,m4a,3gp,3g2,mj2, from '/content/drive/MyDrive/Test/Altschool-downloader/Altschool Backend Engineering/HTML/audio_d49ad8d1':\n",
            "  Metadata:\n",
            "    major_brand     : dash\n",
            "    minor_version   : 0\n",
            "    compatible_brands: dashmp42mp41iso6\n",
            "    creation_time   : 2022-11-21T12:49:00.000000Z\n",
            "  Duration: 00:02:38.78, start: 0.000000, bitrate: 191 kb/s\n",
            "  Stream #1:0(und): Audio: aac (LC) (mp4a / 0x6134706D), 48000 Hz, stereo, fltp, 189 kb/s (default)\n",
            "    Metadata:\n",
            "      creation_time   : 2022-11-21T12:49:00.000000Z\n",
            "      handler_name    : L-SMASH Audio Handler\n",
            "      vendor_id       : [0][0][0][0]\n",
            "Stream mapping:\n",
            "  Stream #0:0 (h264) -> concat:in0:v0\n",
            "  Stream #1:0 (aac) -> concat:in0:a0\n",
            "  concat:out:a0 -> Stream #0:0 (aac)\n",
            "  concat:out:v0 -> Stream #0:1 (libx264)\n",
            "Press [q] to stop, [?] for help\n",
            "\u001b[1;36m[libx264 @ 0x5a49cb8c5f00] \u001b[0musing cpu capabilities: MMX2 SSE2Fast SSSE3 SSE4.2 AVX FMA3 BMI2 AVX2 AVX512\n",
            "\u001b[1;36m[libx264 @ 0x5a49cb8c5f00] \u001b[0mprofile High, level 4.0, 4:2:0, 8-bit\n",
            "\u001b[1;36m[libx264 @ 0x5a49cb8c5f00] \u001b[0m264 - core 163 r3060 5db6aa6 - H.264/MPEG-4 AVC codec - Copyleft 2003-2021 - http://www.videolan.org/x264.html - options: cabac=1 ref=3 deblock=1:0:0 analyse=0x3:0x113 me=hex subme=7 psy=1 psy_rd=1.00:0.00 mixed_ref=1 me_range=16 chroma_me=1 trellis=1 8x8dct=1 cqm=0 deadzone=21,11 fast_pskip=1 chroma_qp_offset=-2 threads=3 lookahead_threads=1 sliced_threads=0 nr=0 decimate=1 interlaced=0 bluray_compat=0 constrained_intra=0 bframes=3 b_pyramid=2 b_adapt=1 b_bias=0 direct=1 weightb=1 open_gop=0 weightp=2 keyint=250 keyint_min=23 scenecut=40 intra_refresh=0 rc_lookahead=40 rc=crf mbtree=1 crf=23.0 qcomp=0.60 qpmin=0 qpmax=69 qpstep=4 ip_ratio=1.40 aq=1:1.00\n",
            "Output #0, mp4, to '/content/drive/MyDrive/Test/Altschool-downloader/Altschool Backend Engineering/HTML/Self Closing Tags.mp4':\n",
            "  Metadata:\n",
            "    major_brand     : dash\n",
            "    minor_version   : 0\n",
            "    compatible_brands: dashmp42mp41iso6\n",
            "    encoder         : Lavf58.76.100\n",
            "  Stream #0:0: Audio: aac (LC) (mp4a / 0x6134706D), 48000 Hz, stereo, fltp, 128 kb/s (default)\n",
            "    Metadata:\n",
            "      encoder         : Lavc58.134.100 aac\n",
            "  Stream #0:1: Video: h264 (avc1 / 0x31637661), yuv420p(tv, bt709, progressive), 1920x1080, q=2-31, 23.98 fps, 24k tbn (default)\n",
            "    Metadata:\n",
            "      encoder         : Lavc58.134.100 libx264\n",
            "    Side data:\n",
            "      cpb: bitrate max/min/avg: 0/0/0 buffer size: 0 vbv_delay: N/A\n",
            "frame= 3807 fps= 21 q=-1.0 Lsize=   15787kB time=00:02:38.76 bitrate= 814.6kbits/s speed=0.874x    \n",
            "video:13187kB audio:2491kB subtitle:0kB other streams:0kB global headers:0kB muxing overhead: 0.692305%\n",
            "\u001b[1;36m[aac @ 0x5a49cb811340] \u001b[0mQavg: 204.715\n",
            "\u001b[1;36m[libx264 @ 0x5a49cb8c5f00] \u001b[0mframe I:21    Avg QP:13.36  size: 60575\n",
            "\u001b[1;36m[libx264 @ 0x5a49cb8c5f00] \u001b[0mframe P:998   Avg QP:18.16  size:  7656\n",
            "\u001b[1;36m[libx264 @ 0x5a49cb8c5f00] \u001b[0mframe B:2788  Avg QP:18.49  size:  1646\n",
            "\u001b[1;36m[libx264 @ 0x5a49cb8c5f00] \u001b[0mconsecutive B-frames:  1.3%  2.4%  2.8% 93.6%\n",
            "\u001b[1;36m[libx264 @ 0x5a49cb8c5f00] \u001b[0mmb I  I16..4: 43.9% 43.9% 12.2%\n",
            "\u001b[1;36m[libx264 @ 0x5a49cb8c5f00] \u001b[0mmb P  I16..4:  1.8%  3.2%  0.5%  P16..4:  9.4%  2.1%  1.0%  0.0%  0.0%    skip:82.2%\n",
            "\u001b[1;36m[libx264 @ 0x5a49cb8c5f00] \u001b[0mmb B  I16..4:  0.2%  0.3%  0.0%  B16..8:  6.9%  0.4%  0.1%  direct: 0.9%  skip:91.2%  L0:46.2% L1:50.5% BI: 3.3%\n",
            "\u001b[1;36m[libx264 @ 0x5a49cb8c5f00] \u001b[0m8x8 transform intra:54.9% inter:78.5%\n",
            "\u001b[1;36m[libx264 @ 0x5a49cb8c5f00] \u001b[0mcoded y,uvDC,uvAC intra: 27.0% 42.3% 16.5% inter: 1.2% 3.7% 0.1%\n",
            "\u001b[1;36m[libx264 @ 0x5a49cb8c5f00] \u001b[0mi16 v,h,dc,p: 49% 23% 10% 19%\n",
            "\u001b[1;36m[libx264 @ 0x5a49cb8c5f00] \u001b[0mi8 v,h,dc,ddl,ddr,vr,hd,vl,hu: 30% 15% 37%  2%  3%  3%  3%  3%  3%\n",
            "\u001b[1;36m[libx264 @ 0x5a49cb8c5f00] \u001b[0mi4 v,h,dc,ddl,ddr,vr,hd,vl,hu: 31% 22% 20%  4%  5%  5%  5%  4%  3%\n",
            "\u001b[1;36m[libx264 @ 0x5a49cb8c5f00] \u001b[0mi8c dc,h,v,p: 61% 17% 16%  6%\n",
            "\u001b[1;36m[libx264 @ 0x5a49cb8c5f00] \u001b[0mWeighted P-Frames: Y:0.7% UV:0.7%\n",
            "\u001b[1;36m[libx264 @ 0x5a49cb8c5f00] \u001b[0mref P L0: 67.4%  8.7% 17.0%  6.9%  0.0%\n",
            "\u001b[1;36m[libx264 @ 0x5a49cb8c5f00] \u001b[0mref B L0: 87.7% 10.6%  1.7%\n",
            "\u001b[1;36m[libx264 @ 0x5a49cb8c5f00] \u001b[0mref B L1: 95.9%  4.1%\n",
            "\u001b[1;36m[libx264 @ 0x5a49cb8c5f00] \u001b[0mkb/s:680.31\n",
            "Merge completed!\n",
            "Video saved successfully\n",
            "Temporary files removed!\n",
            "Nesting Elements, Empty Elements and Anatomy of an HTML Document.mp4 exists\n",
            "Installing Pre-requisite Tools.mp4 exists\n",
            "Let’s build our first HTML Document.mp4 exists\n",
            "HTML Basics.mp4 exists\n",
            "Hello and Welcome to HTML.mp4 exists\n",
            "What is HTML, CSS and Javascript.mp4 exists\n",
            "How the web works.mp4 exists\n",
            "History of HTML.mp4 exists\n",
            "HTML Basics.mp4 exists\n",
            "Computer Programming.mp4 exists\n",
            "Compilers and Interpreters.mp4 exists\n",
            "Bits, Bytes, Variable, Data Types.mp4 exists\n",
            "Data Structures, Control Flow, Loops _ Recursion.mp4 exists\n",
            "Big -O- Notation, Programming Paradigms.mp4 exists\n",
            "Functioning Programming, Algorithms, Code Editors _ Operating Systems.mp4 exists\n",
            "Introduction to Computer Science.mp4 exists\n",
            "What is Computer Science.mp4 exists\n",
            "study kit downloaded successfully!\n"
          ]
        }
      ]
    }
  ]
}